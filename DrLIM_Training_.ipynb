{
 "cells": [
  {
   "cell_type": "code",
   "execution_count": 1,
   "metadata": {},
   "outputs": [
    {
     "name": "stderr",
     "output_type": "stream",
     "text": [
      "/home/eslab/anaconda3/envs/nyh38/lib/python3.8/site-packages/tqdm/auto.py:22: TqdmWarning: IProgress not found. Please update jupyter and ipywidgets. See https://ipywidgets.readthedocs.io/en/stable/user_install.html\n",
      "  from .autonotebook import tqdm as notebook_tqdm\n"
     ]
    },
    {
     "data": {
      "text/plain": [
       "device(type='cuda')"
      ]
     },
     "execution_count": 1,
     "metadata": {},
     "output_type": "execute_result"
    }
   ],
   "source": [
    "\n",
    "import torch\n",
    "import torch.nn as nn\n",
    "import torch.nn.functional as F\n",
    "import matplotlib.pyplot as plt\n",
    "\n",
    "from torch import optim\n",
    "from torchvision import datasets\n",
    "import torchvision.transforms as transforms\n",
    "from torch.utils.data import DataLoader\n",
    "import os\n",
    "from torchvision import utils\n",
    "import torchvision\n",
    "\n",
    "\n",
    "from torch import nn\n",
    "from torch import Tensor\n",
    "from PIL import Image\n",
    "from torchvision.transforms import Compose, Resize, ToTensor\n",
    "from einops import rearrange, reduce, repeat\n",
    "from einops.layers.torch import Rearrange, Reduce\n",
    "from torchsummary import summary\n",
    "import numpy as np\n",
    "import time\n",
    "import copy\n",
    "import random\n",
    "from tqdm.auto import tqdm\n",
    "import math\n",
    "\n",
    "# Device configuration\n",
    "device = torch.device('cuda' if torch.cuda.is_available() else 'cpu')\n",
    "device"
   ]
  },
  {
   "cell_type": "code",
   "execution_count": 2,
   "metadata": {},
   "outputs": [
    {
     "data": {
      "text/plain": [
       "4"
      ]
     },
     "execution_count": 2,
     "metadata": {},
     "output_type": "execute_result"
    }
   ],
   "source": [
    "torch.cuda.device_count()"
   ]
  },
  {
   "cell_type": "code",
   "execution_count": 3,
   "metadata": {},
   "outputs": [],
   "source": [
    "transforms = transforms.Compose([\n",
    "    transforms.ToTensor(),\n",
    "    transforms.Resize(32),\n",
    "])\n",
    "\n",
    "train = torchvision.datasets.MNIST(root = \"./\", train = True, download = True, transform = transforms)\n",
    "test = torchvision.datasets.MNIST(root = \"./\", train = False, download = True, transform = transforms)"
   ]
  },
  {
   "cell_type": "code",
   "execution_count": 4,
   "metadata": {},
   "outputs": [
    {
     "data": {
      "text/plain": [
       "Dataset MNIST\n",
       "    Number of datapoints: 60000\n",
       "    Root location: ./\n",
       "    Split: Train\n",
       "    StandardTransform\n",
       "Transform: Compose(\n",
       "               ToTensor()\n",
       "               Resize(size=32, interpolation=bilinear, max_size=None, antialias=None)\n",
       "           )"
      ]
     },
     "execution_count": 4,
     "metadata": {},
     "output_type": "execute_result"
    }
   ],
   "source": [
    "train"
   ]
  },
  {
   "cell_type": "code",
   "execution_count": 5,
   "metadata": {},
   "outputs": [
    {
     "data": {
      "text/plain": [
       "Dataset MNIST\n",
       "    Number of datapoints: 10000\n",
       "    Root location: ./\n",
       "    Split: Test\n",
       "    StandardTransform\n",
       "Transform: Compose(\n",
       "               ToTensor()\n",
       "               Resize(size=32, interpolation=bilinear, max_size=None, antialias=None)\n",
       "           )"
      ]
     },
     "execution_count": 5,
     "metadata": {},
     "output_type": "execute_result"
    }
   ],
   "source": [
    "test"
   ]
  },
  {
   "cell_type": "code",
   "execution_count": 6,
   "metadata": {},
   "outputs": [],
   "source": [
    "f_cnt, n_cnt = 0, 0\n",
    "train_four, train_nine = [], []\n",
    "test_four, test_nine = [], []\n",
    "\n",
    "def transform_degree_n6(img):\n",
    "    return torchvision.transforms.functional.rotate(img = img, angle = -6)\n",
    "\n",
    "def transform_degree_n3(img):\n",
    "    return torchvision.transforms.functional.rotate(img = img, angle = -3)\n",
    "\n",
    "def transform_degree_3(img):\n",
    "    return torchvision.transforms.functional.rotate(img = img, angle = 3)\n",
    "\n",
    "def transform_pixel(img):\n",
    "    for i in range(6):\n",
    "       coord = np.random.randint(0, img.shape[1], size = 2)\n",
    "       img[0, coord[0], coord[1]] = 0\n",
    "    \n",
    "    return img\n",
    "\n",
    "def aug_func(idx, img):\n",
    "    if i == 0: img = transform_degree_n6(img)\n",
    "    if i == 1: img = transform_degree_n3(img)\n",
    "    if i == 2: img = transform_degree_3(img)\n",
    "    if i == 3: img = transform_pixel(img)\n",
    "    return img\n",
    "\n",
    "for img, label in train:\n",
    "    if label == 4:\n",
    "\n",
    "        if f_cnt < 3000: \n",
    "            train_four.append(img)\n",
    "            for i in range(0, 4): train_four.append(aug_func(i, img))\n",
    "            f_cnt+=1\n",
    "\n",
    "        elif f_cnt < 4000: test_four.append(img); f_cnt+=1\n",
    "    \n",
    "    elif label == 9: \n",
    "        if n_cnt < 3000: \n",
    "            train_nine.append(img)\n",
    "            for i in range(0, 4): train_nine.append(aug_func(i, img))\n",
    "            n_cnt+=1\n",
    "        elif n_cnt < 4000: test_nine.append(img); n_cnt+=1"
   ]
  },
  {
   "cell_type": "code",
   "execution_count": null,
   "metadata": {},
   "outputs": [],
   "source": [
    "test_four, test_nine = [], []\n",
    "f_cnt, n_cnt = 0, 0\n",
    "\n",
    "for img, label in test:\n",
    "    if label == 4 and f_cnt < 900: # test nine has not enough images\n",
    "        test_four.append(img)\n",
    "        f_cnt += 1\n",
    "    \n",
    "    elif label == 9 and n_cnt < 900:\n",
    "        test_nine.append(img)\n",
    "        n_cnt += 1"
   ]
  },
  {
   "cell_type": "code",
   "execution_count": null,
   "metadata": {},
   "outputs": [],
   "source": [
    "train_four.__len__(), train_nine.__len__(), test_four.__len__(), test_nine.__len__()"
   ]
  },
  {
   "cell_type": "code",
   "execution_count": 7,
   "metadata": {},
   "outputs": [
    {
     "name": "stdout",
     "output_type": "stream",
     "text": [
      "torch.Size([1, 32, 32])\n"
     ]
    },
    {
     "data": {
      "text/plain": [
       "(15000, 15000, 1000, 1000)"
      ]
     },
     "execution_count": 7,
     "metadata": {},
     "output_type": "execute_result"
    },
    {
     "data": {
      "image/png": "[encoded data removed]",
      "text/plain": [
       "<Figure size 640x480 with 2 Axes>"
      ]
     },
     "metadata": {},
     "output_type": "display_data"
    }
   ],
   "source": [
    "for f, n in zip(train_four, train_nine):\n",
    "    plt.subplot(1, 2, 1); plt.imshow(f.permute(1,2,0))\n",
    "    plt.subplot(1, 2, 2); plt.imshow(n.permute(1,2,0))    \n",
    "    print(f.shape)\n",
    "    break"
   ]
  },
  {
   "cell_type": "code",
   "execution_count": 8,
   "metadata": {},
   "outputs": [],
   "source": [
    "train_f = [(img, 0) for img in train_four]\n",
    "train_n = [(img, 1) for img in train_nine]\n",
    "\n",
    "test_f = [(img, 0) for img in test_four]\n",
    "test_n = [(img, 1) for img in test_nine]\n",
    "\n",
    "train = train_f + train_n\n",
    "test = test_f + test_n\n",
    "\n",
    "random.shuffle(train)\n",
    "random.shuffle(test)\n",
    "\n",
    "traindata = [(img1[0], img2[0], 0) if img1[1] == img2[1] else (img1[0], img2[0], 1) for img1, img2 in zip(train[0::2], train[1::2])]"
   ]
  },
  {
   "cell_type": "code",
   "execution_count": 9,
   "metadata": {},
   "outputs": [],
   "source": [
    "trainloader = DataLoader(traindata[3000:], batch_size=128, shuffle=True)\n",
    "validloader = DataLoader(traindata[:3000], batch_size=128, shuffle=True)\n",
    "trainloader.__len__(), validloader.__len__()"
   ]
  },
  {
   "cell_type": "code",
   "execution_count": 11,
   "metadata": {},
   "outputs": [],
   "source": [
    "class DrLIM(nn.Module):\n",
    "\n",
    "    def __init__(self):\n",
    "        super().__init__()\n",
    "        self.layer1 = nn.Conv2d(in_channels = 1, out_channels = 15, kernel_size = 6, padding = 0, stride = 1)\n",
    "        self.relu = nn.ReLU()\n",
    "        self.subsampling = nn.MaxPool2d(kernel_size = 3, stride = 3)\n",
    "        self.layer2 = nn.Conv2d(in_channels = 15, out_channels = 30, kernel_size = 9, padding = 0, stride = 1)\n",
    "        # self.relu = nn.ReLU(),\n",
    "        self.fc = nn.Linear(15, 1)\n",
    "\n",
    "    def forward(self, x):\n",
    "        x = self.layer1(x)\n",
    "        x = self.relu(x)\n",
    "        x = self.subsampling(x)\n",
    "        x = self.layer2(x)\n",
    "        x = x.reshape(-1, 2, 15)\n",
    "        x = self.relu(x)\n",
    "        x = self.fc(x)\n",
    "        return x\n",
    "    "
   ]
  },
  {
   "cell_type": "code",
   "execution_count": 12,
   "metadata": {},
   "outputs": [],
   "source": [
    "def CL_Loss(x1, x2, Y, m = 1):\n",
    "    Euclidean_norm = torch.sqrt((x1 - x2)**2) # Euclidean Distance\n",
    "    return torch.mean((1-Y).reshape(-1, 1, 1) * 1/2 * Euclidean_norm**2 + Y.reshape(-1, 1, 1) * 1/2 * torch.maximum(torch.Tensor([0]).to(device), m - Euclidean_norm)**2)"
   ]
  },
  {
   "cell_type": "code",
   "execution_count": 13,
   "metadata": {},
   "outputs": [
    {
     "name": "stderr",
     "output_type": "stream",
     "text": [
      "  0%|          | 0/94 [00:00<?, ?it/s]/tmp/ipykernel_17378/2079802684.py:29: UserWarning: To copy construct from a tensor, it is recommended to use sourceTensor.clone().detach() or sourceTensor.clone().detach().requires_grad_(True), rather than torch.tensor(sourceTensor).\n",
      "  y = torch.tensor(y, dtype = torch.float64).to(device)\n",
      "/tmp/ipykernel_17378/2079802684.py:42: UserWarning: To copy construct from a tensor, it is recommended to use sourceTensor.clone().detach() or sourceTensor.clone().detach().requires_grad_(True), rather than torch.tensor(sourceTensor).\n",
      "  ans = torch.tensor((Gw_x1[:, 0] < Gw_x1[:, 1]) != (Gw_x2[:, 0] < Gw_x2[:, 1]), dtype=torch.float64) # Similar to Contrastive Leaning Loss\n",
      "100%|██████████| 94/94 [00:15<00:00,  6.24it/s]\n",
      "  0%|          | 0/24 [00:00<?, ?it/s]/tmp/ipykernel_17378/2079802684.py:55: UserWarning: To copy construct from a tensor, it is recommended to use sourceTensor.clone().detach() or sourceTensor.clone().detach().requires_grad_(True), rather than torch.tensor(sourceTensor).\n",
      "  y = torch.tensor(y, dtype = torch.float64).to(device)\n",
      "/tmp/ipykernel_17378/2079802684.py:65: UserWarning: To copy construct from a tensor, it is recommended to use sourceTensor.clone().detach() or sourceTensor.clone().detach().requires_grad_(True), rather than torch.tensor(sourceTensor).\n",
      "  ans = torch.tensor((Gw_x1[:, 0] < Gw_x1[:, 1]) != (Gw_x2[:, 0] < Gw_x2[:, 1]), dtype=torch.float64)\n",
      "100%|██████████| 24/24 [00:00<00:00, 65.38it/s]\n"
     ]
    },
    {
     "name": "stdout",
     "output_type": "stream",
     "text": [
      "Epoch 1/200.. Train loss: 0.230.. Train acc: 0.514.. val loss: 0.228.. val accuracy: 0.514\n",
      "Validation acc increased (0.000000 --> 0.513625).  Saving model ...\n"
     ]
    },
    {
     "name": "stderr",
     "output_type": "stream",
     "text": [
      "100%|██████████| 94/94 [00:02<00:00, 44.95it/s]\n",
      "100%|██████████| 24/24 [00:00<00:00, 66.72it/s]\n"
     ]
    },
    {
     "name": "stdout",
     "output_type": "stream",
     "text": [
      "Epoch 2/200.. Train loss: 0.225.. Train acc: 0.534.. val loss: 0.222.. val accuracy: 0.532\n",
      "Validation acc increased (0.513625 --> 0.532180).  Saving model ...\n"
     ]
    },
    {
     "name": "stderr",
     "output_type": "stream",
     "text": [
      "100%|██████████| 94/94 [00:02<00:00, 44.70it/s]\n",
      "100%|██████████| 24/24 [00:00<00:00, 67.14it/s]\n"
     ]
    },
    {
     "name": "stdout",
     "output_type": "stream",
     "text": [
      "Epoch 3/200.. Train loss: 0.219.. Train acc: 0.540.. val loss: 0.216.. val accuracy: 0.555\n",
      "Validation acc increased (0.532180 --> 0.555013).  Saving model ...\n"
     ]
    },
    {
     "name": "stderr",
     "output_type": "stream",
     "text": [
      "100%|██████████| 94/94 [00:02<00:00, 44.78it/s]\n",
      "100%|██████████| 24/24 [00:00<00:00, 67.29it/s]\n"
     ]
    },
    {
     "name": "stdout",
     "output_type": "stream",
     "text": [
      "Epoch 4/200.. Train loss: 0.213.. Train acc: 0.539.. val loss: 0.208.. val accuracy: 0.555\n",
      "Validation acc increased (0.555013 --> 0.555385).  Saving model ...\n"
     ]
    },
    {
     "name": "stderr",
     "output_type": "stream",
     "text": [
      "100%|██████████| 94/94 [00:02<00:00, 44.65it/s]\n",
      "100%|██████████| 24/24 [00:00<00:00, 66.88it/s]\n"
     ]
    },
    {
     "name": "stdout",
     "output_type": "stream",
     "text": [
      "Epoch 5/200.. Train loss: 0.207.. Train acc: 0.541.. val loss: 0.202.. val accuracy: 0.555\n"
     ]
    },
    {
     "name": "stderr",
     "output_type": "stream",
     "text": [
      "100%|██████████| 94/94 [00:02<00:00, 45.16it/s]\n",
      "100%|██████████| 24/24 [00:00<00:00, 68.46it/s]\n"
     ]
    },
    {
     "name": "stdout",
     "output_type": "stream",
     "text": [
      "Epoch 6/200.. Train loss: 0.201.. Train acc: 0.542.. val loss: 0.197.. val accuracy: 0.553\n"
     ]
    },
    {
     "name": "stderr",
     "output_type": "stream",
     "text": [
      "100%|██████████| 94/94 [00:02<00:00, 44.78it/s]\n",
      "100%|██████████| 24/24 [00:00<00:00, 66.77it/s]\n"
     ]
    },
    {
     "name": "stdout",
     "output_type": "stream",
     "text": [
      "Epoch 7/200.. Train loss: 0.194.. Train acc: 0.542.. val loss: 0.190.. val accuracy: 0.554\n"
     ]
    },
    {
     "name": "stderr",
     "output_type": "stream",
     "text": [
      "100%|██████████| 94/94 [00:02<00:00, 44.80it/s]\n",
      "100%|██████████| 24/24 [00:00<00:00, 67.36it/s]\n"
     ]
    },
    {
     "name": "stdout",
     "output_type": "stream",
     "text": [
      "Epoch 8/200.. Train loss: 0.188.. Train acc: 0.540.. val loss: 0.184.. val accuracy: 0.557\n",
      "Validation acc increased (0.555385 --> 0.556873).  Saving model ...\n"
     ]
    },
    {
     "name": "stderr",
     "output_type": "stream",
     "text": [
      "100%|██████████| 94/94 [00:02<00:00, 44.66it/s]\n",
      "100%|██████████| 24/24 [00:00<00:00, 67.12it/s]\n"
     ]
    },
    {
     "name": "stdout",
     "output_type": "stream",
     "text": [
      "Epoch 9/200.. Train loss: 0.182.. Train acc: 0.542.. val loss: 0.178.. val accuracy: 0.556\n"
     ]
    },
    {
     "name": "stderr",
     "output_type": "stream",
     "text": [
      "100%|██████████| 94/94 [00:02<00:00, 44.52it/s]\n",
      "100%|██████████| 24/24 [00:00<00:00, 66.33it/s]\n"
     ]
    },
    {
     "name": "stdout",
     "output_type": "stream",
     "text": [
      "Epoch 10/200.. Train loss: 0.177.. Train acc: 0.545.. val loss: 0.172.. val accuracy: 0.557\n",
      "Validation acc increased (0.556873 --> 0.557478).  Saving model ...\n"
     ]
    },
    {
     "name": "stderr",
     "output_type": "stream",
     "text": [
      "100%|██████████| 94/94 [00:02<00:00, 44.91it/s]\n",
      "100%|██████████| 24/24 [00:00<00:00, 67.13it/s]\n"
     ]
    },
    {
     "name": "stdout",
     "output_type": "stream",
     "text": [
      "Epoch 11/200.. Train loss: 0.172.. Train acc: 0.548.. val loss: 0.168.. val accuracy: 0.557\n"
     ]
    },
    {
     "name": "stderr",
     "output_type": "stream",
     "text": [
      "100%|██████████| 94/94 [00:02<00:00, 44.77it/s]\n",
      "100%|██████████| 24/24 [00:00<00:00, 66.89it/s]\n"
     ]
    },
    {
     "name": "stdout",
     "output_type": "stream",
     "text": [
      "Epoch 12/200.. Train loss: 0.167.. Train acc: 0.550.. val loss: 0.163.. val accuracy: 0.558\n",
      "Validation acc increased (0.557478 --> 0.558361).  Saving model ...\n"
     ]
    },
    {
     "name": "stderr",
     "output_type": "stream",
     "text": [
      "100%|██████████| 94/94 [00:02<00:00, 44.99it/s]\n",
      "100%|██████████| 24/24 [00:00<00:00, 66.91it/s]\n"
     ]
    },
    {
     "name": "stdout",
     "output_type": "stream",
     "text": [
      "Epoch 13/200.. Train loss: 0.163.. Train acc: 0.555.. val loss: 0.158.. val accuracy: 0.566\n",
      "Validation acc increased (0.558361 --> 0.566313).  Saving model ...\n"
     ]
    },
    {
     "name": "stderr",
     "output_type": "stream",
     "text": [
      "100%|██████████| 94/94 [00:02<00:00, 44.85it/s]\n",
      "100%|██████████| 24/24 [00:00<00:00, 66.84it/s]\n"
     ]
    },
    {
     "name": "stdout",
     "output_type": "stream",
     "text": [
      "Epoch 14/200.. Train loss: 0.159.. Train acc: 0.558.. val loss: 0.155.. val accuracy: 0.571\n",
      "Validation acc increased (0.566313 --> 0.571196).  Saving model ...\n"
     ]
    },
    {
     "name": "stderr",
     "output_type": "stream",
     "text": [
      "100%|██████████| 94/94 [00:02<00:00, 44.80it/s]\n",
      "100%|██████████| 24/24 [00:00<00:00, 67.03it/s]\n"
     ]
    },
    {
     "name": "stdout",
     "output_type": "stream",
     "text": [
      "Epoch 15/200.. Train loss: 0.156.. Train acc: 0.563.. val loss: 0.151.. val accuracy: 0.578\n",
      "Validation acc increased (0.571196 --> 0.577567).  Saving model ...\n"
     ]
    },
    {
     "name": "stderr",
     "output_type": "stream",
     "text": [
      "100%|██████████| 94/94 [00:02<00:00, 44.46it/s]\n",
      "100%|██████████| 24/24 [00:00<00:00, 67.06it/s]\n"
     ]
    },
    {
     "name": "stdout",
     "output_type": "stream",
     "text": [
      "Epoch 16/200.. Train loss: 0.153.. Train acc: 0.567.. val loss: 0.149.. val accuracy: 0.582\n",
      "Validation acc increased (0.577567 --> 0.581845).  Saving model ...\n"
     ]
    },
    {
     "name": "stderr",
     "output_type": "stream",
     "text": [
      "100%|██████████| 94/94 [00:02<00:00, 45.00it/s]\n",
      "100%|██████████| 24/24 [00:00<00:00, 66.76it/s]\n"
     ]
    },
    {
     "name": "stdout",
     "output_type": "stream",
     "text": [
      "Epoch 17/200.. Train loss: 0.150.. Train acc: 0.574.. val loss: 0.145.. val accuracy: 0.591\n",
      "Validation acc increased (0.581845 --> 0.590541).  Saving model ...\n"
     ]
    },
    {
     "name": "stderr",
     "output_type": "stream",
     "text": [
      "100%|██████████| 94/94 [00:02<00:00, 44.56it/s]\n",
      "100%|██████████| 24/24 [00:00<00:00, 67.73it/s]\n"
     ]
    },
    {
     "name": "stdout",
     "output_type": "stream",
     "text": [
      "Epoch 18/200.. Train loss: 0.148.. Train acc: 0.580.. val loss: 0.142.. val accuracy: 0.600\n",
      "Validation acc increased (0.590541 --> 0.600167).  Saving model ...\n"
     ]
    },
    {
     "name": "stderr",
     "output_type": "stream",
     "text": [
      "100%|██████████| 94/94 [00:02<00:00, 44.96it/s]\n",
      "100%|██████████| 24/24 [00:00<00:00, 66.44it/s]\n"
     ]
    },
    {
     "name": "stdout",
     "output_type": "stream",
     "text": [
      "Epoch 19/200.. Train loss: 0.145.. Train acc: 0.588.. val loss: 0.140.. val accuracy: 0.609\n",
      "Validation acc increased (0.600167 --> 0.608584).  Saving model ...\n"
     ]
    },
    {
     "name": "stderr",
     "output_type": "stream",
     "text": [
      "100%|██████████| 94/94 [00:02<00:00, 44.96it/s]\n",
      "100%|██████████| 24/24 [00:00<00:00, 66.85it/s]\n"
     ]
    },
    {
     "name": "stdout",
     "output_type": "stream",
     "text": [
      "Epoch 20/200.. Train loss: 0.142.. Train acc: 0.596.. val loss: 0.137.. val accuracy: 0.618\n",
      "Validation acc increased (0.608584 --> 0.618350).  Saving model ...\n"
     ]
    },
    {
     "name": "stderr",
     "output_type": "stream",
     "text": [
      "100%|██████████| 94/94 [00:02<00:00, 44.88it/s]\n",
      "100%|██████████| 24/24 [00:00<00:00, 67.23it/s]\n"
     ]
    },
    {
     "name": "stdout",
     "output_type": "stream",
     "text": [
      "Epoch 21/200.. Train loss: 0.140.. Train acc: 0.607.. val loss: 0.134.. val accuracy: 0.624\n",
      "Validation acc increased (0.618350 --> 0.623512).  Saving model ...\n"
     ]
    },
    {
     "name": "stderr",
     "output_type": "stream",
     "text": [
      "100%|██████████| 94/94 [00:02<00:00, 45.02it/s]\n",
      "100%|██████████| 24/24 [00:00<00:00, 67.53it/s]\n"
     ]
    },
    {
     "name": "stdout",
     "output_type": "stream",
     "text": [
      "Epoch 22/200.. Train loss: 0.136.. Train acc: 0.617.. val loss: 0.131.. val accuracy: 0.635\n",
      "Validation acc increased (0.623512 --> 0.634905).  Saving model ...\n"
     ]
    },
    {
     "name": "stderr",
     "output_type": "stream",
     "text": [
      "100%|██████████| 94/94 [00:02<00:00, 44.95it/s]\n",
      "100%|██████████| 24/24 [00:00<00:00, 66.08it/s]\n"
     ]
    },
    {
     "name": "stdout",
     "output_type": "stream",
     "text": [
      "Epoch 23/200.. Train loss: 0.133.. Train acc: 0.628.. val loss: 0.128.. val accuracy: 0.643\n",
      "Validation acc increased (0.634905 --> 0.642950).  Saving model ...\n"
     ]
    },
    {
     "name": "stderr",
     "output_type": "stream",
     "text": [
      "100%|██████████| 94/94 [00:02<00:00, 44.65it/s]\n",
      "100%|██████████| 24/24 [00:00<00:00, 66.91it/s]\n"
     ]
    },
    {
     "name": "stdout",
     "output_type": "stream",
     "text": [
      "Epoch 24/200.. Train loss: 0.130.. Train acc: 0.640.. val loss: 0.124.. val accuracy: 0.659\n",
      "Validation acc increased (0.642950 --> 0.658994).  Saving model ...\n"
     ]
    },
    {
     "name": "stderr",
     "output_type": "stream",
     "text": [
      "100%|██████████| 94/94 [00:02<00:00, 44.79it/s]\n",
      "100%|██████████| 24/24 [00:00<00:00, 66.33it/s]\n"
     ]
    },
    {
     "name": "stdout",
     "output_type": "stream",
     "text": [
      "Epoch 25/200.. Train loss: 0.126.. Train acc: 0.654.. val loss: 0.121.. val accuracy: 0.676\n",
      "Validation acc increased (0.658994 --> 0.675502).  Saving model ...\n"
     ]
    },
    {
     "name": "stderr",
     "output_type": "stream",
     "text": [
      "100%|██████████| 94/94 [00:02<00:00, 44.90it/s]\n",
      "100%|██████████| 24/24 [00:00<00:00, 66.50it/s]\n"
     ]
    },
    {
     "name": "stdout",
     "output_type": "stream",
     "text": [
      "Epoch 26/200.. Train loss: 0.123.. Train acc: 0.670.. val loss: 0.117.. val accuracy: 0.691\n",
      "Validation acc increased (0.675502 --> 0.690802).  Saving model ...\n"
     ]
    },
    {
     "name": "stderr",
     "output_type": "stream",
     "text": [
      "100%|██████████| 94/94 [00:02<00:00, 44.69it/s]\n",
      "100%|██████████| 24/24 [00:00<00:00, 66.32it/s]\n"
     ]
    },
    {
     "name": "stdout",
     "output_type": "stream",
     "text": [
      "Epoch 27/200.. Train loss: 0.119.. Train acc: 0.686.. val loss: 0.114.. val accuracy: 0.698\n",
      "Validation acc increased (0.690802 --> 0.697684).  Saving model ...\n"
     ]
    },
    {
     "name": "stderr",
     "output_type": "stream",
     "text": [
      "100%|██████████| 94/94 [00:02<00:00, 45.10it/s]\n",
      "100%|██████████| 24/24 [00:00<00:00, 68.35it/s]\n"
     ]
    },
    {
     "name": "stdout",
     "output_type": "stream",
     "text": [
      "Epoch 28/200.. Train loss: 0.115.. Train acc: 0.702.. val loss: 0.110.. val accuracy: 0.720\n",
      "Validation acc increased (0.697684 --> 0.719587).  Saving model ...\n"
     ]
    },
    {
     "name": "stderr",
     "output_type": "stream",
     "text": [
      "100%|██████████| 94/94 [00:02<00:00, 44.76it/s]\n",
      "100%|██████████| 24/24 [00:00<00:00, 66.86it/s]\n"
     ]
    },
    {
     "name": "stdout",
     "output_type": "stream",
     "text": [
      "Epoch 29/200.. Train loss: 0.111.. Train acc: 0.719.. val loss: 0.106.. val accuracy: 0.730\n",
      "Validation acc increased (0.719587 --> 0.729539).  Saving model ...\n"
     ]
    },
    {
     "name": "stderr",
     "output_type": "stream",
     "text": [
      "100%|██████████| 94/94 [00:02<00:00, 44.90it/s]\n",
      "100%|██████████| 24/24 [00:00<00:00, 66.82it/s]\n"
     ]
    },
    {
     "name": "stdout",
     "output_type": "stream",
     "text": [
      "Epoch 30/200.. Train loss: 0.107.. Train acc: 0.740.. val loss: 0.102.. val accuracy: 0.755\n",
      "Validation acc increased (0.729539 --> 0.754511).  Saving model ...\n"
     ]
    },
    {
     "name": "stderr",
     "output_type": "stream",
     "text": [
      "100%|██████████| 94/94 [00:02<00:00, 44.92it/s]\n",
      "100%|██████████| 24/24 [00:00<00:00, 66.46it/s]\n"
     ]
    },
    {
     "name": "stdout",
     "output_type": "stream",
     "text": [
      "Epoch 31/200.. Train loss: 0.103.. Train acc: 0.759.. val loss: 0.098.. val accuracy: 0.774\n",
      "Validation acc increased (0.754511 --> 0.773717).  Saving model ...\n"
     ]
    },
    {
     "name": "stderr",
     "output_type": "stream",
     "text": [
      "100%|██████████| 94/94 [00:02<00:00, 44.91it/s]\n",
      "100%|██████████| 24/24 [00:00<00:00, 66.89it/s]\n"
     ]
    },
    {
     "name": "stdout",
     "output_type": "stream",
     "text": [
      "Epoch 32/200.. Train loss: 0.099.. Train acc: 0.778.. val loss: 0.094.. val accuracy: 0.785\n",
      "Validation acc increased (0.773717 --> 0.784924).  Saving model ...\n"
     ]
    },
    {
     "name": "stderr",
     "output_type": "stream",
     "text": [
      "100%|██████████| 94/94 [00:02<00:00, 44.95it/s]\n",
      "100%|██████████| 24/24 [00:00<00:00, 67.03it/s]\n"
     ]
    },
    {
     "name": "stdout",
     "output_type": "stream",
     "text": [
      "Epoch 33/200.. Train loss: 0.094.. Train acc: 0.796.. val loss: 0.090.. val accuracy: 0.803\n",
      "Validation acc increased (0.784924 --> 0.803246).  Saving model ...\n"
     ]
    },
    {
     "name": "stderr",
     "output_type": "stream",
     "text": [
      "100%|██████████| 94/94 [00:02<00:00, 44.75it/s]\n",
      "100%|██████████| 24/24 [00:00<00:00, 67.47it/s]\n"
     ]
    },
    {
     "name": "stdout",
     "output_type": "stream",
     "text": [
      "Epoch 34/200.. Train loss: 0.090.. Train acc: 0.810.. val loss: 0.087.. val accuracy: 0.816\n",
      "Validation acc increased (0.803246 --> 0.816174).  Saving model ...\n"
     ]
    },
    {
     "name": "stderr",
     "output_type": "stream",
     "text": [
      "100%|██████████| 94/94 [00:02<00:00, 44.76it/s]\n",
      "100%|██████████| 24/24 [00:00<00:00, 66.84it/s]\n"
     ]
    },
    {
     "name": "stdout",
     "output_type": "stream",
     "text": [
      "Epoch 35/200.. Train loss: 0.086.. Train acc: 0.829.. val loss: 0.083.. val accuracy: 0.832\n",
      "Validation acc increased (0.816174 --> 0.832403).  Saving model ...\n"
     ]
    },
    {
     "name": "stderr",
     "output_type": "stream",
     "text": [
      "100%|██████████| 94/94 [00:02<00:00, 45.15it/s]\n",
      "100%|██████████| 24/24 [00:00<00:00, 67.28it/s]\n"
     ]
    },
    {
     "name": "stdout",
     "output_type": "stream",
     "text": [
      "Epoch 36/200.. Train loss: 0.083.. Train acc: 0.841.. val loss: 0.079.. val accuracy: 0.848\n",
      "Validation acc increased (0.832403 --> 0.847935).  Saving model ...\n"
     ]
    },
    {
     "name": "stderr",
     "output_type": "stream",
     "text": [
      "100%|██████████| 94/94 [00:02<00:00, 44.70it/s]\n",
      "100%|██████████| 24/24 [00:00<00:00, 67.32it/s]\n"
     ]
    },
    {
     "name": "stdout",
     "output_type": "stream",
     "text": [
      "Epoch 37/200.. Train loss: 0.079.. Train acc: 0.853.. val loss: 0.075.. val accuracy: 0.859\n",
      "Validation acc increased (0.847935 --> 0.858770).  Saving model ...\n"
     ]
    },
    {
     "name": "stderr",
     "output_type": "stream",
     "text": [
      "100%|██████████| 94/94 [00:02<00:00, 44.87it/s]\n",
      "100%|██████████| 24/24 [00:00<00:00, 67.05it/s]\n"
     ]
    },
    {
     "name": "stdout",
     "output_type": "stream",
     "text": [
      "Epoch 38/200.. Train loss: 0.075.. Train acc: 0.865.. val loss: 0.072.. val accuracy: 0.869\n",
      "Validation acc increased (0.858770 --> 0.869327).  Saving model ...\n"
     ]
    },
    {
     "name": "stderr",
     "output_type": "stream",
     "text": [
      "100%|██████████| 94/94 [00:02<00:00, 44.92it/s]\n",
      "100%|██████████| 24/24 [00:00<00:00, 67.12it/s]\n"
     ]
    },
    {
     "name": "stdout",
     "output_type": "stream",
     "text": [
      "Epoch 39/200.. Train loss: 0.071.. Train acc: 0.877.. val loss: 0.068.. val accuracy: 0.881\n",
      "Validation acc increased (0.869327 --> 0.881278).  Saving model ...\n"
     ]
    },
    {
     "name": "stderr",
     "output_type": "stream",
     "text": [
      "100%|██████████| 94/94 [00:02<00:00, 44.78it/s]\n",
      "100%|██████████| 24/24 [00:00<00:00, 67.53it/s]\n"
     ]
    },
    {
     "name": "stdout",
     "output_type": "stream",
     "text": [
      "Epoch 40/200.. Train loss: 0.068.. Train acc: 0.886.. val loss: 0.065.. val accuracy: 0.886\n",
      "Validation acc increased (0.881278 --> 0.886161).  Saving model ...\n"
     ]
    },
    {
     "name": "stderr",
     "output_type": "stream",
     "text": [
      "100%|██████████| 94/94 [00:02<00:00, 45.16it/s]\n",
      "100%|██████████| 24/24 [00:00<00:00, 66.18it/s]\n"
     ]
    },
    {
     "name": "stdout",
     "output_type": "stream",
     "text": [
      "Epoch 41/200.. Train loss: 0.065.. Train acc: 0.892.. val loss: 0.062.. val accuracy: 0.895\n",
      "Validation acc increased (0.886161 --> 0.894903).  Saving model ...\n"
     ]
    },
    {
     "name": "stderr",
     "output_type": "stream",
     "text": [
      "100%|██████████| 94/94 [00:02<00:00, 44.67it/s]\n",
      "100%|██████████| 24/24 [00:00<00:00, 66.39it/s]\n"
     ]
    },
    {
     "name": "stdout",
     "output_type": "stream",
     "text": [
      "Epoch 42/200.. Train loss: 0.062.. Train acc: 0.898.. val loss: 0.060.. val accuracy: 0.901\n",
      "Validation acc increased (0.894903 --> 0.900995).  Saving model ...\n"
     ]
    },
    {
     "name": "stderr",
     "output_type": "stream",
     "text": [
      "100%|██████████| 94/94 [00:02<00:00, 44.69it/s]\n",
      "100%|██████████| 24/24 [00:00<00:00, 67.58it/s]\n"
     ]
    },
    {
     "name": "stdout",
     "output_type": "stream",
     "text": [
      "Epoch 43/200.. Train loss: 0.059.. Train acc: 0.903.. val loss: 0.058.. val accuracy: 0.908\n",
      "Validation acc increased (0.900995 --> 0.908064).  Saving model ...\n"
     ]
    },
    {
     "name": "stderr",
     "output_type": "stream",
     "text": [
      "100%|██████████| 94/94 [00:02<00:00, 45.25it/s]\n",
      "100%|██████████| 24/24 [00:00<00:00, 66.00it/s]\n"
     ]
    },
    {
     "name": "stdout",
     "output_type": "stream",
     "text": [
      "Epoch 44/200.. Train loss: 0.057.. Train acc: 0.909.. val loss: 0.056.. val accuracy: 0.913\n",
      "Validation acc increased (0.908064 --> 0.912946).  Saving model ...\n"
     ]
    },
    {
     "name": "stderr",
     "output_type": "stream",
     "text": [
      "100%|██████████| 94/94 [00:02<00:00, 44.90it/s]\n",
      "100%|██████████| 24/24 [00:00<00:00, 66.90it/s]\n"
     ]
    },
    {
     "name": "stdout",
     "output_type": "stream",
     "text": [
      "Epoch 45/200.. Train loss: 0.055.. Train acc: 0.913.. val loss: 0.054.. val accuracy: 0.914\n",
      "Validation acc increased (0.912946 --> 0.914249).  Saving model ...\n"
     ]
    },
    {
     "name": "stderr",
     "output_type": "stream",
     "text": [
      "100%|██████████| 94/94 [00:02<00:00, 44.69it/s]\n",
      "100%|██████████| 24/24 [00:00<00:00, 67.01it/s]\n"
     ]
    },
    {
     "name": "stdout",
     "output_type": "stream",
     "text": [
      "Epoch 46/200.. Train loss: 0.053.. Train acc: 0.918.. val loss: 0.053.. val accuracy: 0.918\n",
      "Validation acc increased (0.914249 --> 0.917829).  Saving model ...\n"
     ]
    },
    {
     "name": "stderr",
     "output_type": "stream",
     "text": [
      "100%|██████████| 94/94 [00:02<00:00, 44.86it/s]\n",
      "100%|██████████| 24/24 [00:00<00:00, 66.76it/s]\n"
     ]
    },
    {
     "name": "stdout",
     "output_type": "stream",
     "text": [
      "Epoch 47/200.. Train loss: 0.052.. Train acc: 0.920.. val loss: 0.051.. val accuracy: 0.923\n",
      "Validation acc increased (0.917829 --> 0.923224).  Saving model ...\n"
     ]
    },
    {
     "name": "stderr",
     "output_type": "stream",
     "text": [
      "100%|██████████| 94/94 [00:02<00:00, 44.65it/s]\n",
      "100%|██████████| 24/24 [00:00<00:00, 68.41it/s]\n"
     ]
    },
    {
     "name": "stdout",
     "output_type": "stream",
     "text": [
      "Epoch 48/200.. Train loss: 0.050.. Train acc: 0.923.. val loss: 0.050.. val accuracy: 0.925\n",
      "Validation acc increased (0.923224 --> 0.924991).  Saving model ...\n"
     ]
    },
    {
     "name": "stderr",
     "output_type": "stream",
     "text": [
      "100%|██████████| 94/94 [00:02<00:00, 44.68it/s]\n",
      "100%|██████████| 24/24 [00:00<00:00, 66.45it/s]\n"
     ]
    },
    {
     "name": "stdout",
     "output_type": "stream",
     "text": [
      "Epoch 49/200.. Train loss: 0.049.. Train acc: 0.925.. val loss: 0.049.. val accuracy: 0.927\n",
      "Validation acc increased (0.924991 --> 0.927269).  Saving model ...\n"
     ]
    },
    {
     "name": "stderr",
     "output_type": "stream",
     "text": [
      "100%|██████████| 94/94 [00:02<00:00, 44.90it/s]\n",
      "100%|██████████| 24/24 [00:00<00:00, 66.57it/s]\n"
     ]
    },
    {
     "name": "stdout",
     "output_type": "stream",
     "text": [
      "Epoch 50/200.. Train loss: 0.048.. Train acc: 0.927.. val loss: 0.047.. val accuracy: 0.931\n",
      "Validation acc increased (0.927269 --> 0.930897).  Saving model ...\n"
     ]
    },
    {
     "name": "stderr",
     "output_type": "stream",
     "text": [
      "100%|██████████| 94/94 [00:02<00:00, 44.64it/s]\n",
      "100%|██████████| 24/24 [00:00<00:00, 66.39it/s]\n"
     ]
    },
    {
     "name": "stdout",
     "output_type": "stream",
     "text": [
      "Epoch 51/200.. Train loss: 0.047.. Train acc: 0.929.. val loss: 0.047.. val accuracy: 0.933\n",
      "Validation acc increased (0.930897 --> 0.932803).  Saving model ...\n"
     ]
    },
    {
     "name": "stderr",
     "output_type": "stream",
     "text": [
      "100%|██████████| 94/94 [00:02<00:00, 44.57it/s]\n",
      "100%|██████████| 24/24 [00:00<00:00, 66.74it/s]\n"
     ]
    },
    {
     "name": "stdout",
     "output_type": "stream",
     "text": [
      "Epoch 52/200.. Train loss: 0.046.. Train acc: 0.929.. val loss: 0.046.. val accuracy: 0.934\n",
      "Validation acc increased (0.932803 --> 0.934477).  Saving model ...\n"
     ]
    },
    {
     "name": "stderr",
     "output_type": "stream",
     "text": [
      "100%|██████████| 94/94 [00:02<00:00, 44.68it/s]\n",
      "100%|██████████| 24/24 [00:00<00:00, 67.00it/s]\n"
     ]
    },
    {
     "name": "stdout",
     "output_type": "stream",
     "text": [
      "Epoch 53/200.. Train loss: 0.045.. Train acc: 0.931.. val loss: 0.045.. val accuracy: 0.934\n"
     ]
    },
    {
     "name": "stderr",
     "output_type": "stream",
     "text": [
      "100%|██████████| 94/94 [00:02<00:00, 44.65it/s]\n",
      "100%|██████████| 24/24 [00:00<00:00, 67.31it/s]\n"
     ]
    },
    {
     "name": "stdout",
     "output_type": "stream",
     "text": [
      "Epoch 54/200.. Train loss: 0.045.. Train acc: 0.931.. val loss: 0.045.. val accuracy: 0.935\n",
      "Validation acc increased (0.934477 --> 0.935175).  Saving model ...\n"
     ]
    },
    {
     "name": "stderr",
     "output_type": "stream",
     "text": [
      "100%|██████████| 94/94 [00:02<00:00, 44.50it/s]\n",
      "100%|██████████| 24/24 [00:00<00:00, 65.72it/s]\n"
     ]
    },
    {
     "name": "stdout",
     "output_type": "stream",
     "text": [
      "Epoch 55/200.. Train loss: 0.044.. Train acc: 0.932.. val loss: 0.044.. val accuracy: 0.936\n",
      "Validation acc increased (0.935175 --> 0.936244).  Saving model ...\n"
     ]
    },
    {
     "name": "stderr",
     "output_type": "stream",
     "text": [
      "100%|██████████| 94/94 [00:02<00:00, 44.85it/s]\n",
      "100%|██████████| 24/24 [00:00<00:00, 67.19it/s]\n"
     ]
    },
    {
     "name": "stdout",
     "output_type": "stream",
     "text": [
      "Epoch 56/200.. Train loss: 0.043.. Train acc: 0.933.. val loss: 0.043.. val accuracy: 0.935\n"
     ]
    },
    {
     "name": "stderr",
     "output_type": "stream",
     "text": [
      "100%|██████████| 94/94 [00:02<00:00, 44.92it/s]\n",
      "100%|██████████| 24/24 [00:00<00:00, 66.99it/s]\n"
     ]
    },
    {
     "name": "stdout",
     "output_type": "stream",
     "text": [
      "Epoch 57/200.. Train loss: 0.043.. Train acc: 0.934.. val loss: 0.042.. val accuracy: 0.936\n"
     ]
    },
    {
     "name": "stderr",
     "output_type": "stream",
     "text": [
      "100%|██████████| 94/94 [00:02<00:00, 44.44it/s]\n",
      "100%|██████████| 24/24 [00:00<00:00, 66.93it/s]\n"
     ]
    },
    {
     "name": "stdout",
     "output_type": "stream",
     "text": [
      "Epoch 58/200.. Train loss: 0.042.. Train acc: 0.934.. val loss: 0.042.. val accuracy: 0.938\n",
      "Validation acc increased (0.936244 --> 0.938430).  Saving model ...\n"
     ]
    },
    {
     "name": "stderr",
     "output_type": "stream",
     "text": [
      "100%|██████████| 94/94 [00:02<00:00, 44.62it/s]\n",
      "100%|██████████| 24/24 [00:00<00:00, 66.58it/s]\n"
     ]
    },
    {
     "name": "stdout",
     "output_type": "stream",
     "text": [
      "Epoch 59/200.. Train loss: 0.042.. Train acc: 0.935.. val loss: 0.041.. val accuracy: 0.940\n",
      "Validation acc increased (0.938430 --> 0.940337).  Saving model ...\n"
     ]
    },
    {
     "name": "stderr",
     "output_type": "stream",
     "text": [
      "100%|██████████| 94/94 [00:02<00:00, 44.95it/s]\n",
      "100%|██████████| 24/24 [00:00<00:00, 66.33it/s]\n"
     ]
    },
    {
     "name": "stdout",
     "output_type": "stream",
     "text": [
      "Epoch 60/200.. Train loss: 0.041.. Train acc: 0.936.. val loss: 0.041.. val accuracy: 0.939\n"
     ]
    },
    {
     "name": "stderr",
     "output_type": "stream",
     "text": [
      "100%|██████████| 94/94 [00:02<00:00, 44.67it/s]\n",
      "100%|██████████| 24/24 [00:00<00:00, 67.93it/s]\n"
     ]
    },
    {
     "name": "stdout",
     "output_type": "stream",
     "text": [
      "Epoch 61/200.. Train loss: 0.041.. Train acc: 0.937.. val loss: 0.041.. val accuracy: 0.940\n"
     ]
    },
    {
     "name": "stderr",
     "output_type": "stream",
     "text": [
      "100%|██████████| 94/94 [00:02<00:00, 44.97it/s]\n",
      "100%|██████████| 24/24 [00:00<00:00, 67.65it/s]\n"
     ]
    },
    {
     "name": "stdout",
     "output_type": "stream",
     "text": [
      "Epoch 62/200.. Train loss: 0.040.. Train acc: 0.938.. val loss: 0.040.. val accuracy: 0.940\n"
     ]
    },
    {
     "name": "stderr",
     "output_type": "stream",
     "text": [
      "100%|██████████| 94/94 [00:02<00:00, 44.73it/s]\n",
      "100%|██████████| 24/24 [00:00<00:00, 67.59it/s]\n"
     ]
    },
    {
     "name": "stdout",
     "output_type": "stream",
     "text": [
      "Epoch 63/200.. Train loss: 0.040.. Train acc: 0.938.. val loss: 0.040.. val accuracy: 0.941\n",
      "Validation acc increased (0.940337 --> 0.941220).  Saving model ...\n"
     ]
    },
    {
     "name": "stderr",
     "output_type": "stream",
     "text": [
      "100%|██████████| 94/94 [00:02<00:00, 44.95it/s]\n",
      "100%|██████████| 24/24 [00:00<00:00, 66.70it/s]\n"
     ]
    },
    {
     "name": "stdout",
     "output_type": "stream",
     "text": [
      "Epoch 64/200.. Train loss: 0.040.. Train acc: 0.939.. val loss: 0.039.. val accuracy: 0.941\n",
      "Validation acc increased (0.941220 --> 0.941453).  Saving model ...\n"
     ]
    },
    {
     "name": "stderr",
     "output_type": "stream",
     "text": [
      "100%|██████████| 94/94 [00:02<00:00, 44.59it/s]\n",
      "100%|██████████| 24/24 [00:00<00:00, 67.08it/s]\n"
     ]
    },
    {
     "name": "stdout",
     "output_type": "stream",
     "text": [
      "Epoch 65/200.. Train loss: 0.039.. Train acc: 0.939.. val loss: 0.039.. val accuracy: 0.941\n"
     ]
    },
    {
     "name": "stderr",
     "output_type": "stream",
     "text": [
      "100%|██████████| 94/94 [00:02<00:00, 44.57it/s]\n",
      "100%|██████████| 24/24 [00:00<00:00, 66.76it/s]\n"
     ]
    },
    {
     "name": "stdout",
     "output_type": "stream",
     "text": [
      "Epoch 66/200.. Train loss: 0.039.. Train acc: 0.940.. val loss: 0.039.. val accuracy: 0.942\n",
      "Validation acc increased (0.941453 --> 0.941871).  Saving model ...\n"
     ]
    },
    {
     "name": "stderr",
     "output_type": "stream",
     "text": [
      "100%|██████████| 94/94 [00:02<00:00, 44.80it/s]\n",
      "100%|██████████| 24/24 [00:00<00:00, 66.04it/s]\n"
     ]
    },
    {
     "name": "stdout",
     "output_type": "stream",
     "text": [
      "Epoch 67/200.. Train loss: 0.039.. Train acc: 0.940.. val loss: 0.038.. val accuracy: 0.943\n",
      "Validation acc increased (0.941871 --> 0.942615).  Saving model ...\n"
     ]
    },
    {
     "name": "stderr",
     "output_type": "stream",
     "text": [
      "100%|██████████| 94/94 [00:02<00:00, 45.04it/s]\n",
      "100%|██████████| 24/24 [00:00<00:00, 67.50it/s]\n"
     ]
    },
    {
     "name": "stdout",
     "output_type": "stream",
     "text": [
      "Epoch 68/200.. Train loss: 0.038.. Train acc: 0.940.. val loss: 0.038.. val accuracy: 0.944\n",
      "Validation acc increased (0.942615 --> 0.944336).  Saving model ...\n"
     ]
    },
    {
     "name": "stderr",
     "output_type": "stream",
     "text": [
      "100%|██████████| 94/94 [00:02<00:00, 44.80it/s]\n",
      "100%|██████████| 24/24 [00:00<00:00, 66.79it/s]\n"
     ]
    },
    {
     "name": "stdout",
     "output_type": "stream",
     "text": [
      "Epoch 69/200.. Train loss: 0.038.. Train acc: 0.941.. val loss: 0.038.. val accuracy: 0.942\n"
     ]
    },
    {
     "name": "stderr",
     "output_type": "stream",
     "text": [
      "100%|██████████| 94/94 [00:02<00:00, 44.62it/s]\n",
      "100%|██████████| 24/24 [00:00<00:00, 66.49it/s]\n"
     ]
    },
    {
     "name": "stdout",
     "output_type": "stream",
     "text": [
      "Epoch 70/200.. Train loss: 0.038.. Train acc: 0.941.. val loss: 0.038.. val accuracy: 0.943\n"
     ]
    },
    {
     "name": "stderr",
     "output_type": "stream",
     "text": [
      "100%|██████████| 94/94 [00:02<00:00, 44.65it/s]\n",
      "100%|██████████| 24/24 [00:00<00:00, 66.86it/s]\n"
     ]
    },
    {
     "name": "stdout",
     "output_type": "stream",
     "text": [
      "Epoch 71/200.. Train loss: 0.037.. Train acc: 0.942.. val loss: 0.037.. val accuracy: 0.943\n"
     ]
    },
    {
     "name": "stderr",
     "output_type": "stream",
     "text": [
      "100%|██████████| 94/94 [00:02<00:00, 45.10it/s]\n",
      "100%|██████████| 24/24 [00:00<00:00, 66.75it/s]\n"
     ]
    },
    {
     "name": "stdout",
     "output_type": "stream",
     "text": [
      "Epoch 72/200.. Train loss: 0.037.. Train acc: 0.942.. val loss: 0.037.. val accuracy: 0.946\n",
      "Validation acc increased (0.944336 --> 0.945871).  Saving model ...\n"
     ]
    },
    {
     "name": "stderr",
     "output_type": "stream",
     "text": [
      "100%|██████████| 94/94 [00:02<00:00, 45.07it/s]\n",
      "100%|██████████| 24/24 [00:00<00:00, 67.35it/s]\n"
     ]
    },
    {
     "name": "stdout",
     "output_type": "stream",
     "text": [
      "Epoch 73/200.. Train loss: 0.037.. Train acc: 0.942.. val loss: 0.037.. val accuracy: 0.947\n",
      "Validation acc increased (0.945871 --> 0.946522).  Saving model ...\n"
     ]
    },
    {
     "name": "stderr",
     "output_type": "stream",
     "text": [
      "100%|██████████| 94/94 [00:02<00:00, 45.00it/s]\n",
      "100%|██████████| 24/24 [00:00<00:00, 68.06it/s]\n"
     ]
    },
    {
     "name": "stdout",
     "output_type": "stream",
     "text": [
      "Epoch 74/200.. Train loss: 0.037.. Train acc: 0.942.. val loss: 0.037.. val accuracy: 0.946\n"
     ]
    },
    {
     "name": "stderr",
     "output_type": "stream",
     "text": [
      "100%|██████████| 94/94 [00:02<00:00, 44.89it/s]\n",
      "100%|██████████| 24/24 [00:00<00:00, 66.79it/s]\n"
     ]
    },
    {
     "name": "stdout",
     "output_type": "stream",
     "text": [
      "Epoch 75/200.. Train loss: 0.036.. Train acc: 0.943.. val loss: 0.036.. val accuracy: 0.947\n",
      "Validation acc increased (0.946522 --> 0.946987).  Saving model ...\n"
     ]
    },
    {
     "name": "stderr",
     "output_type": "stream",
     "text": [
      "100%|██████████| 94/94 [00:02<00:00, 44.62it/s]\n",
      "100%|██████████| 24/24 [00:00<00:00, 67.55it/s]\n"
     ]
    },
    {
     "name": "stdout",
     "output_type": "stream",
     "text": [
      "Epoch 76/200.. Train loss: 0.036.. Train acc: 0.943.. val loss: 0.036.. val accuracy: 0.948\n",
      "Validation acc increased (0.946987 --> 0.947917).  Saving model ...\n"
     ]
    },
    {
     "name": "stderr",
     "output_type": "stream",
     "text": [
      "100%|██████████| 94/94 [00:02<00:00, 44.59it/s]\n",
      "100%|██████████| 24/24 [00:00<00:00, 67.45it/s]\n"
     ]
    },
    {
     "name": "stdout",
     "output_type": "stream",
     "text": [
      "Epoch 77/200.. Train loss: 0.036.. Train acc: 0.943.. val loss: 0.036.. val accuracy: 0.947\n"
     ]
    },
    {
     "name": "stderr",
     "output_type": "stream",
     "text": [
      "100%|██████████| 94/94 [00:02<00:00, 44.94it/s]\n",
      "100%|██████████| 24/24 [00:00<00:00, 66.92it/s]\n"
     ]
    },
    {
     "name": "stdout",
     "output_type": "stream",
     "text": [
      "Epoch 78/200.. Train loss: 0.036.. Train acc: 0.944.. val loss: 0.036.. val accuracy: 0.946\n"
     ]
    },
    {
     "name": "stderr",
     "output_type": "stream",
     "text": [
      "100%|██████████| 94/94 [00:02<00:00, 44.58it/s]\n",
      "100%|██████████| 24/24 [00:00<00:00, 67.35it/s]\n"
     ]
    },
    {
     "name": "stdout",
     "output_type": "stream",
     "text": [
      "Epoch 79/200.. Train loss: 0.036.. Train acc: 0.945.. val loss: 0.035.. val accuracy: 0.948\n",
      "Validation acc increased (0.947917 --> 0.948475).  Saving model ...\n"
     ]
    },
    {
     "name": "stderr",
     "output_type": "stream",
     "text": [
      "100%|██████████| 94/94 [00:02<00:00, 45.08it/s]\n",
      "100%|██████████| 24/24 [00:00<00:00, 67.14it/s]\n"
     ]
    },
    {
     "name": "stdout",
     "output_type": "stream",
     "text": [
      "Epoch 80/200.. Train loss: 0.035.. Train acc: 0.944.. val loss: 0.035.. val accuracy: 0.949\n",
      "Validation acc increased (0.948475 --> 0.948893).  Saving model ...\n"
     ]
    },
    {
     "name": "stderr",
     "output_type": "stream",
     "text": [
      "100%|██████████| 94/94 [00:02<00:00, 44.91it/s]\n",
      "100%|██████████| 24/24 [00:00<00:00, 67.53it/s]\n"
     ]
    },
    {
     "name": "stdout",
     "output_type": "stream",
     "text": [
      "Epoch 81/200.. Train loss: 0.035.. Train acc: 0.945.. val loss: 0.035.. val accuracy: 0.947\n"
     ]
    },
    {
     "name": "stderr",
     "output_type": "stream",
     "text": [
      "100%|██████████| 94/94 [00:02<00:00, 44.77it/s]\n",
      "100%|██████████| 24/24 [00:00<00:00, 67.32it/s]\n"
     ]
    },
    {
     "name": "stdout",
     "output_type": "stream",
     "text": [
      "Epoch 82/200.. Train loss: 0.035.. Train acc: 0.946.. val loss: 0.035.. val accuracy: 0.948\n"
     ]
    },
    {
     "name": "stderr",
     "output_type": "stream",
     "text": [
      "100%|██████████| 94/94 [00:02<00:00, 45.09it/s]\n",
      "100%|██████████| 24/24 [00:00<00:00, 67.66it/s]\n"
     ]
    },
    {
     "name": "stdout",
     "output_type": "stream",
     "text": [
      "Epoch 83/200.. Train loss: 0.035.. Train acc: 0.946.. val loss: 0.035.. val accuracy: 0.947\n"
     ]
    },
    {
     "name": "stderr",
     "output_type": "stream",
     "text": [
      "100%|██████████| 94/94 [00:02<00:00, 45.07it/s]\n",
      "100%|██████████| 24/24 [00:00<00:00, 66.29it/s]\n"
     ]
    },
    {
     "name": "stdout",
     "output_type": "stream",
     "text": [
      "Epoch 84/200.. Train loss: 0.034.. Train acc: 0.946.. val loss: 0.034.. val accuracy: 0.948\n"
     ]
    },
    {
     "name": "stderr",
     "output_type": "stream",
     "text": [
      "100%|██████████| 94/94 [00:02<00:00, 45.02it/s]\n",
      "100%|██████████| 24/24 [00:00<00:00, 67.64it/s]\n"
     ]
    },
    {
     "name": "stdout",
     "output_type": "stream",
     "text": [
      "Epoch 85/200.. Train loss: 0.034.. Train acc: 0.946.. val loss: 0.034.. val accuracy: 0.948\n"
     ]
    },
    {
     "name": "stderr",
     "output_type": "stream",
     "text": [
      "100%|██████████| 94/94 [00:02<00:00, 44.87it/s]\n",
      "100%|██████████| 24/24 [00:00<00:00, 68.68it/s]\n"
     ]
    },
    {
     "name": "stdout",
     "output_type": "stream",
     "text": [
      "Epoch 86/200.. Train loss: 0.034.. Train acc: 0.947.. val loss: 0.034.. val accuracy: 0.948\n"
     ]
    },
    {
     "name": "stderr",
     "output_type": "stream",
     "text": [
      "100%|██████████| 94/94 [00:02<00:00, 44.82it/s]\n",
      "100%|██████████| 24/24 [00:00<00:00, 67.04it/s]\n"
     ]
    },
    {
     "name": "stdout",
     "output_type": "stream",
     "text": [
      "Epoch 87/200.. Train loss: 0.034.. Train acc: 0.947.. val loss: 0.034.. val accuracy: 0.947\n"
     ]
    },
    {
     "name": "stderr",
     "output_type": "stream",
     "text": [
      "100%|██████████| 94/94 [00:02<00:00, 44.72it/s]\n",
      "100%|██████████| 24/24 [00:00<00:00, 66.97it/s]\n"
     ]
    },
    {
     "name": "stdout",
     "output_type": "stream",
     "text": [
      "Epoch 88/200.. Train loss: 0.034.. Train acc: 0.947.. val loss: 0.034.. val accuracy: 0.949\n"
     ]
    },
    {
     "name": "stderr",
     "output_type": "stream",
     "text": [
      "100%|██████████| 94/94 [00:02<00:00, 45.07it/s]\n",
      "100%|██████████| 24/24 [00:00<00:00, 66.73it/s]\n"
     ]
    },
    {
     "name": "stdout",
     "output_type": "stream",
     "text": [
      "Epoch 89/200.. Train loss: 0.034.. Train acc: 0.947.. val loss: 0.034.. val accuracy: 0.949\n",
      "Validation acc increased (0.948893 --> 0.949126).  Saving model ...\n"
     ]
    },
    {
     "name": "stderr",
     "output_type": "stream",
     "text": [
      "100%|██████████| 94/94 [00:02<00:00, 44.71it/s]\n",
      "100%|██████████| 24/24 [00:00<00:00, 67.27it/s]\n"
     ]
    },
    {
     "name": "stdout",
     "output_type": "stream",
     "text": [
      "Epoch 90/200.. Train loss: 0.033.. Train acc: 0.947.. val loss: 0.033.. val accuracy: 0.949\n",
      "Validation acc increased (0.949126 --> 0.949126).  Saving model ...\n"
     ]
    },
    {
     "name": "stderr",
     "output_type": "stream",
     "text": [
      "100%|██████████| 94/94 [00:02<00:00, 44.92it/s]\n",
      "100%|██████████| 24/24 [00:00<00:00, 67.09it/s]\n"
     ]
    },
    {
     "name": "stdout",
     "output_type": "stream",
     "text": [
      "Epoch 91/200.. Train loss: 0.033.. Train acc: 0.948.. val loss: 0.033.. val accuracy: 0.948\n"
     ]
    },
    {
     "name": "stderr",
     "output_type": "stream",
     "text": [
      "100%|██████████| 94/94 [00:02<00:00, 44.96it/s]\n",
      "100%|██████████| 24/24 [00:00<00:00, 67.05it/s]\n"
     ]
    },
    {
     "name": "stdout",
     "output_type": "stream",
     "text": [
      "Epoch 92/200.. Train loss: 0.033.. Train acc: 0.948.. val loss: 0.033.. val accuracy: 0.949\n"
     ]
    },
    {
     "name": "stderr",
     "output_type": "stream",
     "text": [
      "100%|██████████| 94/94 [00:02<00:00, 44.90it/s]\n",
      "100%|██████████| 24/24 [00:00<00:00, 67.65it/s]\n"
     ]
    },
    {
     "name": "stdout",
     "output_type": "stream",
     "text": [
      "Epoch 93/200.. Train loss: 0.033.. Train acc: 0.948.. val loss: 0.033.. val accuracy: 0.950\n",
      "Validation acc increased (0.949126 --> 0.949870).  Saving model ...\n"
     ]
    },
    {
     "name": "stderr",
     "output_type": "stream",
     "text": [
      "100%|██████████| 94/94 [00:02<00:00, 44.56it/s]\n",
      "100%|██████████| 24/24 [00:00<00:00, 67.43it/s]\n"
     ]
    },
    {
     "name": "stdout",
     "output_type": "stream",
     "text": [
      "Epoch 94/200.. Train loss: 0.033.. Train acc: 0.948.. val loss: 0.033.. val accuracy: 0.948\n"
     ]
    },
    {
     "name": "stderr",
     "output_type": "stream",
     "text": [
      "100%|██████████| 94/94 [00:02<00:00, 45.16it/s]\n",
      "100%|██████████| 24/24 [00:00<00:00, 66.22it/s]\n"
     ]
    },
    {
     "name": "stdout",
     "output_type": "stream",
     "text": [
      "Epoch 95/200.. Train loss: 0.033.. Train acc: 0.948.. val loss: 0.033.. val accuracy: 0.948\n"
     ]
    },
    {
     "name": "stderr",
     "output_type": "stream",
     "text": [
      "100%|██████████| 94/94 [00:02<00:00, 44.98it/s]\n",
      "100%|██████████| 24/24 [00:00<00:00, 67.71it/s]\n"
     ]
    },
    {
     "name": "stdout",
     "output_type": "stream",
     "text": [
      "Epoch 96/200.. Train loss: 0.033.. Train acc: 0.948.. val loss: 0.032.. val accuracy: 0.948\n"
     ]
    },
    {
     "name": "stderr",
     "output_type": "stream",
     "text": [
      "100%|██████████| 94/94 [00:02<00:00, 44.78it/s]\n",
      "100%|██████████| 24/24 [00:00<00:00, 66.77it/s]\n"
     ]
    },
    {
     "name": "stdout",
     "output_type": "stream",
     "text": [
      "Epoch 97/200.. Train loss: 0.032.. Train acc: 0.949.. val loss: 0.032.. val accuracy: 0.949\n"
     ]
    },
    {
     "name": "stderr",
     "output_type": "stream",
     "text": [
      "100%|██████████| 94/94 [00:02<00:00, 44.69it/s]\n",
      "100%|██████████| 24/24 [00:00<00:00, 66.44it/s]\n"
     ]
    },
    {
     "name": "stdout",
     "output_type": "stream",
     "text": [
      "Epoch 98/200.. Train loss: 0.032.. Train acc: 0.948.. val loss: 0.033.. val accuracy: 0.947\n"
     ]
    },
    {
     "name": "stderr",
     "output_type": "stream",
     "text": [
      "100%|██████████| 94/94 [00:02<00:00, 44.89it/s]\n",
      "100%|██████████| 24/24 [00:00<00:00, 66.84it/s]\n"
     ]
    },
    {
     "name": "stdout",
     "output_type": "stream",
     "text": [
      "Epoch 99/200.. Train loss: 0.032.. Train acc: 0.949.. val loss: 0.032.. val accuracy: 0.950\n",
      "Validation acc increased (0.949870 --> 0.950102).  Saving model ...\n"
     ]
    },
    {
     "name": "stderr",
     "output_type": "stream",
     "text": [
      "100%|██████████| 94/94 [00:02<00:00, 44.94it/s]\n",
      "100%|██████████| 24/24 [00:00<00:00, 66.67it/s]\n"
     ]
    },
    {
     "name": "stdout",
     "output_type": "stream",
     "text": [
      "Epoch 100/200.. Train loss: 0.032.. Train acc: 0.949.. val loss: 0.032.. val accuracy: 0.950\n"
     ]
    },
    {
     "name": "stderr",
     "output_type": "stream",
     "text": [
      "100%|██████████| 94/94 [00:02<00:00, 44.87it/s]\n",
      "100%|██████████| 24/24 [00:00<00:00, 66.52it/s]\n"
     ]
    },
    {
     "name": "stdout",
     "output_type": "stream",
     "text": [
      "Epoch 101/200.. Train loss: 0.032.. Train acc: 0.949.. val loss: 0.032.. val accuracy: 0.951\n",
      "Validation acc increased (0.950102 --> 0.950846).  Saving model ...\n"
     ]
    },
    {
     "name": "stderr",
     "output_type": "stream",
     "text": [
      "100%|██████████| 94/94 [00:02<00:00, 44.94it/s]\n",
      "100%|██████████| 24/24 [00:00<00:00, 66.50it/s]\n"
     ]
    },
    {
     "name": "stdout",
     "output_type": "stream",
     "text": [
      "Epoch 102/200.. Train loss: 0.032.. Train acc: 0.950.. val loss: 0.032.. val accuracy: 0.951\n"
     ]
    },
    {
     "name": "stderr",
     "output_type": "stream",
     "text": [
      "100%|██████████| 94/94 [00:02<00:00, 45.10it/s]\n",
      "100%|██████████| 24/24 [00:00<00:00, 66.73it/s]\n"
     ]
    },
    {
     "name": "stdout",
     "output_type": "stream",
     "text": [
      "Epoch 103/200.. Train loss: 0.032.. Train acc: 0.950.. val loss: 0.032.. val accuracy: 0.950\n"
     ]
    },
    {
     "name": "stderr",
     "output_type": "stream",
     "text": [
      "100%|██████████| 94/94 [00:02<00:00, 44.89it/s]\n",
      "100%|██████████| 24/24 [00:00<00:00, 67.42it/s]\n"
     ]
    },
    {
     "name": "stdout",
     "output_type": "stream",
     "text": [
      "Epoch 104/200.. Train loss: 0.032.. Train acc: 0.950.. val loss: 0.032.. val accuracy: 0.951\n",
      "Validation acc increased (0.950846 --> 0.951218).  Saving model ...\n"
     ]
    },
    {
     "name": "stderr",
     "output_type": "stream",
     "text": [
      "100%|██████████| 94/94 [00:02<00:00, 44.71it/s]\n",
      "100%|██████████| 24/24 [00:00<00:00, 66.67it/s]\n"
     ]
    },
    {
     "name": "stdout",
     "output_type": "stream",
     "text": [
      "Epoch 105/200.. Train loss: 0.031.. Train acc: 0.951.. val loss: 0.032.. val accuracy: 0.951\n"
     ]
    },
    {
     "name": "stderr",
     "output_type": "stream",
     "text": [
      "100%|██████████| 94/94 [00:02<00:00, 45.17it/s]\n",
      "100%|██████████| 24/24 [00:00<00:00, 66.70it/s]\n"
     ]
    },
    {
     "name": "stdout",
     "output_type": "stream",
     "text": [
      "Epoch 106/200.. Train loss: 0.031.. Train acc: 0.951.. val loss: 0.032.. val accuracy: 0.952\n",
      "Validation acc increased (0.951218 --> 0.951869).  Saving model ...\n"
     ]
    },
    {
     "name": "stderr",
     "output_type": "stream",
     "text": [
      "100%|██████████| 94/94 [00:02<00:00, 44.98it/s]\n",
      "100%|██████████| 24/24 [00:00<00:00, 66.20it/s]\n"
     ]
    },
    {
     "name": "stdout",
     "output_type": "stream",
     "text": [
      "Epoch 107/200.. Train loss: 0.031.. Train acc: 0.951.. val loss: 0.031.. val accuracy: 0.951\n"
     ]
    },
    {
     "name": "stderr",
     "output_type": "stream",
     "text": [
      "100%|██████████| 94/94 [00:02<00:00, 44.91it/s]\n",
      "100%|██████████| 24/24 [00:00<00:00, 66.93it/s]\n"
     ]
    },
    {
     "name": "stdout",
     "output_type": "stream",
     "text": [
      "Epoch 108/200.. Train loss: 0.031.. Train acc: 0.951.. val loss: 0.031.. val accuracy: 0.953\n",
      "Validation acc increased (0.951869 --> 0.953358).  Saving model ...\n"
     ]
    },
    {
     "name": "stderr",
     "output_type": "stream",
     "text": [
      "100%|██████████| 94/94 [00:02<00:00, 44.85it/s]\n",
      "100%|██████████| 24/24 [00:00<00:00, 68.15it/s]\n"
     ]
    },
    {
     "name": "stdout",
     "output_type": "stream",
     "text": [
      "Epoch 109/200.. Train loss: 0.031.. Train acc: 0.951.. val loss: 0.032.. val accuracy: 0.953\n"
     ]
    },
    {
     "name": "stderr",
     "output_type": "stream",
     "text": [
      "100%|██████████| 94/94 [00:02<00:00, 44.92it/s]\n",
      "100%|██████████| 24/24 [00:00<00:00, 66.49it/s]\n"
     ]
    },
    {
     "name": "stdout",
     "output_type": "stream",
     "text": [
      "Epoch 110/200.. Train loss: 0.031.. Train acc: 0.952.. val loss: 0.031.. val accuracy: 0.953\n"
     ]
    },
    {
     "name": "stderr",
     "output_type": "stream",
     "text": [
      "100%|██████████| 94/94 [00:02<00:00, 45.03it/s]\n",
      "100%|██████████| 24/24 [00:00<00:00, 65.88it/s]\n"
     ]
    },
    {
     "name": "stdout",
     "output_type": "stream",
     "text": [
      "Epoch 111/200.. Train loss: 0.031.. Train acc: 0.952.. val loss: 0.031.. val accuracy: 0.954\n",
      "Validation acc increased (0.953358 --> 0.953590).  Saving model ...\n"
     ]
    },
    {
     "name": "stderr",
     "output_type": "stream",
     "text": [
      "100%|██████████| 94/94 [00:02<00:00, 44.90it/s]\n",
      "100%|██████████| 24/24 [00:00<00:00, 66.34it/s]\n"
     ]
    },
    {
     "name": "stdout",
     "output_type": "stream",
     "text": [
      "Epoch 112/200.. Train loss: 0.031.. Train acc: 0.952.. val loss: 0.031.. val accuracy: 0.955\n",
      "Validation acc increased (0.953590 --> 0.955078).  Saving model ...\n"
     ]
    },
    {
     "name": "stderr",
     "output_type": "stream",
     "text": [
      "100%|██████████| 94/94 [00:02<00:00, 44.68it/s]\n",
      "100%|██████████| 24/24 [00:00<00:00, 67.06it/s]\n"
     ]
    },
    {
     "name": "stdout",
     "output_type": "stream",
     "text": [
      "Epoch 113/200.. Train loss: 0.031.. Train acc: 0.952.. val loss: 0.031.. val accuracy: 0.954\n"
     ]
    },
    {
     "name": "stderr",
     "output_type": "stream",
     "text": [
      "100%|██████████| 94/94 [00:02<00:00, 44.73it/s]\n",
      "100%|██████████| 24/24 [00:00<00:00, 67.11it/s]\n"
     ]
    },
    {
     "name": "stdout",
     "output_type": "stream",
     "text": [
      "Epoch 114/200.. Train loss: 0.030.. Train acc: 0.952.. val loss: 0.030.. val accuracy: 0.954\n"
     ]
    },
    {
     "name": "stderr",
     "output_type": "stream",
     "text": [
      "100%|██████████| 94/94 [00:02<00:00, 44.88it/s]\n",
      "100%|██████████| 24/24 [00:00<00:00, 66.42it/s]\n"
     ]
    },
    {
     "name": "stdout",
     "output_type": "stream",
     "text": [
      "Epoch 115/200.. Train loss: 0.030.. Train acc: 0.953.. val loss: 0.031.. val accuracy: 0.954\n"
     ]
    },
    {
     "name": "stderr",
     "output_type": "stream",
     "text": [
      "100%|██████████| 94/94 [00:02<00:00, 44.93it/s]\n",
      "100%|██████████| 24/24 [00:00<00:00, 66.14it/s]\n"
     ]
    },
    {
     "name": "stdout",
     "output_type": "stream",
     "text": [
      "Epoch 116/200.. Train loss: 0.030.. Train acc: 0.953.. val loss: 0.030.. val accuracy: 0.955\n"
     ]
    },
    {
     "name": "stderr",
     "output_type": "stream",
     "text": [
      "100%|██████████| 94/94 [00:02<00:00, 44.96it/s]\n",
      "100%|██████████| 24/24 [00:00<00:00, 67.87it/s]\n"
     ]
    },
    {
     "name": "stdout",
     "output_type": "stream",
     "text": [
      "Epoch 117/200.. Train loss: 0.030.. Train acc: 0.953.. val loss: 0.031.. val accuracy: 0.954\n"
     ]
    },
    {
     "name": "stderr",
     "output_type": "stream",
     "text": [
      "100%|██████████| 94/94 [00:02<00:00, 44.59it/s]\n",
      "100%|██████████| 24/24 [00:00<00:00, 66.25it/s]\n"
     ]
    },
    {
     "name": "stdout",
     "output_type": "stream",
     "text": [
      "Epoch 118/200.. Train loss: 0.030.. Train acc: 0.953.. val loss: 0.030.. val accuracy: 0.954\n"
     ]
    },
    {
     "name": "stderr",
     "output_type": "stream",
     "text": [
      "100%|██████████| 94/94 [00:02<00:00, 44.96it/s]\n",
      "100%|██████████| 24/24 [00:00<00:00, 68.60it/s]\n"
     ]
    },
    {
     "name": "stdout",
     "output_type": "stream",
     "text": [
      "Epoch 119/200.. Train loss: 0.030.. Train acc: 0.953.. val loss: 0.030.. val accuracy: 0.955\n"
     ]
    },
    {
     "name": "stderr",
     "output_type": "stream",
     "text": [
      "100%|██████████| 94/94 [00:02<00:00, 44.91it/s]\n",
      "100%|██████████| 24/24 [00:00<00:00, 66.19it/s]\n"
     ]
    },
    {
     "name": "stdout",
     "output_type": "stream",
     "text": [
      "Epoch 120/200.. Train loss: 0.030.. Train acc: 0.954.. val loss: 0.030.. val accuracy: 0.954\n"
     ]
    },
    {
     "name": "stderr",
     "output_type": "stream",
     "text": [
      "100%|██████████| 94/94 [00:02<00:00, 45.05it/s]\n",
      "100%|██████████| 24/24 [00:00<00:00, 66.28it/s]\n"
     ]
    },
    {
     "name": "stdout",
     "output_type": "stream",
     "text": [
      "Epoch 121/200.. Train loss: 0.030.. Train acc: 0.954.. val loss: 0.030.. val accuracy: 0.954\n"
     ]
    },
    {
     "name": "stderr",
     "output_type": "stream",
     "text": [
      "100%|██████████| 94/94 [00:02<00:00, 44.91it/s]\n",
      "100%|██████████| 24/24 [00:00<00:00, 66.44it/s]"
     ]
    },
    {
     "name": "stdout",
     "output_type": "stream",
     "text": [
      "Epoch 122/200.. Train loss: 0.030.. Train acc: 0.954.. val loss: 0.030.. val accuracy: 0.954\n",
      "Early Stopping\n"
     ]
    },
    {
     "name": "stderr",
     "output_type": "stream",
     "text": [
      "\n"
     ]
    }
   ],
   "source": [
    "epochs = 200 # Iteration Number\n",
    "cnt = 0      # early stopping count\n",
    "\n",
    "model = DrLIM().to(device)\n",
    "# criterion = CL_Loss()\n",
    "optimizer = optim.SGD(model.parameters(), lr=0.001) # 기본적인 Adam 사용 후 lr 및 Optimizier 변경 예정\n",
    "\n",
    "if torch.cuda.device_count() > 1:\n",
    "    model = nn.DataParallel(model).to(device)\n",
    "\n",
    "# save train and val Loss\n",
    "train_loss = torch.zeros(epochs)\n",
    "val_loss = torch.zeros(epochs)\n",
    "\n",
    "# save train and val Acc\n",
    "train_acc = torch.zeros(epochs)\n",
    "val_acc = torch.zeros(epochs)\n",
    "\n",
    "# initial loss value is inf.\n",
    "valid_loss_min = np.Inf\n",
    "valid_acc_max = 0\n",
    "\n",
    "# train\n",
    "for epoch in range(epochs):\n",
    "    \n",
    "    model.train() # train mode \n",
    "    \n",
    "    for x1, x2, y in tqdm(trainloader):\n",
    "        y = torch.tensor(y, dtype = torch.float64).to(device)\n",
    "        x1, x2 = x1.to(device), x2.to(device)\n",
    "        optimizer.zero_grad() # optimizer initialization\n",
    "        \n",
    "        Gw_x1 = model(x1) # model output of x1\n",
    "        Gw_x2 = model(x2) # model output of x2\n",
    "        \n",
    "        # Calculate accuracy\n",
    "        loss = CL_Loss(Gw_x1, Gw_x2, y) \n",
    "        loss.backward() # backward를 통해 역전파 실행 계산된 loss를 가지고 모델의 파라미터 개선\n",
    "        optimizer.step() # optimizer.step()을 통해 개선된 파라미터 적용\n",
    "        train_loss[epoch] += loss.item() # 에포크당 train_loss 누적\n",
    "\n",
    "        ans = torch.tensor((Gw_x1[:, 0] < Gw_x1[:, 1]) != (Gw_x2[:, 0] < Gw_x2[:, 1]), dtype=torch.float64) # Similar to Contrastive Leaning Loss\n",
    "        equals = ans == y.reshape(ans.shape)   # calculate acc\n",
    "        train_acc[epoch] += torch.mean(equals.type(torch.FloatTensor)).item()  # 정확도 계산을 위해 float로 타입 변환 후 mean 계산.\n",
    "    \n",
    "    # AVG Loss\n",
    "    train_loss[epoch] /= len(trainloader)\n",
    "    train_acc[epoch] /= len(trainloader)\n",
    "\n",
    "    \n",
    "    # valid , \n",
    "    model.eval()  \n",
    "    with torch.no_grad():  \n",
    "        for x1, x2, y in tqdm(validloader):\n",
    "            y = torch.tensor(y, dtype = torch.float64).to(device)\n",
    "            x1, x2 = x1.to(device), x2.to(device)\n",
    "\n",
    "            Gw_x1 = model(x1)\n",
    "            Gw_x2 = model(x2)\n",
    "\n",
    "            loss = CL_Loss(Gw_x1, Gw_x2, y) \n",
    "            val_loss[epoch] += loss.item() # Loss 값 누적\n",
    "\n",
    "            \n",
    "            ans = torch.tensor((Gw_x1[:, 0] < Gw_x1[:, 1]) != (Gw_x2[:, 0] < Gw_x2[:, 1]), dtype=torch.float64)\n",
    "            equals = ans == y.reshape(ans.shape)   # 일치하는지 확인.\n",
    "            val_acc[epoch] += torch.mean(equals.type(torch.FloatTensor)).item()  # 정확도 계산을 위해 float로 타입 변환 후 mean 계산.\n",
    "            \n",
    "    # validation Loss 및 accuracy 평균냄\n",
    "    val_loss[epoch] /= len(validloader)\n",
    "    val_acc[epoch] /= len(validloader)\n",
    "\n",
    "    ##################### PRINT LOSS & ACC #####################\n",
    "    print(f\"Epoch {epoch+1}/{epochs}.. \"\n",
    "          f\"Train loss: {train_loss[epoch]:.3f}.. \"\n",
    "          f\"Train acc: {train_acc[epoch]:.3f}.. \"\n",
    "          f\"val loss: {val_loss[epoch]:.3f}.. \"\n",
    "          f\"val accuracy: {val_acc[epoch]:.3f}\")\n",
    "\n",
    "    ##################### 최적의 모델 저장 #####################\n",
    "    if val_acc[epoch] >= valid_acc_max:\n",
    "        print('Validation acc increased ({:.6f} --> {:.6f}).  Saving model ...'.format(\n",
    "        valid_acc_max,\n",
    "        val_acc[epoch]))\n",
    "        torch.save(model.module.state_dict(), 'DrLIM.pt')\n",
    "        valid_acc_max = val_acc[epoch]\n",
    "\n",
    "        # 가장 낮은 Loss값을 가지게 된다면 Early Stopping count 초기화\n",
    "        cnt = 0\n",
    "\n",
    "    # 20번 이상 Loss 개선이 안된다면 종료\n",
    "    ############# Early Stopping #############\n",
    "    if cnt >= 10:\n",
    "        print(\"Early Stopping\")\n",
    "        break\n",
    "            \n",
    "    cnt+=1 #Loss 개선 실패\n",
    "########################################################"
   ]
  },
  {
   "cell_type": "code",
   "execution_count": null,
   "metadata": {},
   "outputs": [],
   "source": []
  },
  {
   "cell_type": "code",
   "execution_count": null,
   "metadata": {},
   "outputs": [],
   "source": []
  }
 ],
 "metadata": {
  "kernelspec": {
   "display_name": "nyh38",
   "language": "python",
   "name": "python3"
  },
  "language_info": {
   "codemirror_mode": {
    "name": "ipython",
    "version": 3
   },
   "file_extension": ".py",
   "mimetype": "text/x-python",
   "name": "python",
   "nbconvert_exporter": "python",
   "pygments_lexer": "ipython3",
   "version": "3.8.13"
  },
  "orig_nbformat": 4
 },
 "nbformat": 4,
 "nbformat_minor": 2
}
