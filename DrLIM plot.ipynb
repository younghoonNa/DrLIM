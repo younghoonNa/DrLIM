{
 "cells": [
  {
   "cell_type": "code",
   "execution_count": 178,
   "metadata": {},
   "outputs": [
    {
     "data": {
      "text/plain": [
       "device(type='cuda')"
      ]
     },
     "execution_count": 178,
     "metadata": {},
     "output_type": "execute_result"
    }
   ],
   "source": [
    "\n",
    "import torch\n",
    "import torch.nn as nn\n",
    "import torch.nn.functional as F\n",
    "import matplotlib.pyplot as plt\n",
    "\n",
    "from torch import optim\n",
    "from torchvision import datasets\n",
    "import torchvision.transforms as transforms\n",
    "from torch.utils.data import DataLoader\n",
    "import os\n",
    "from torchvision import utils\n",
    "import torchvision\n",
    "\n",
    "\n",
    "from torch import nn\n",
    "from torch import Tensor\n",
    "from PIL import Image\n",
    "from torchvision.transforms import Compose, Resize, ToTensor\n",
    "from einops import rearrange, reduce, repeat\n",
    "from einops.layers.torch import Rearrange, Reduce\n",
    "from torchsummary import summary\n",
    "import numpy as np\n",
    "import time\n",
    "import copy\n",
    "import random\n",
    "from tqdm.auto import tqdm\n",
    "import math\n",
    "\n",
    "# Device configuration\n",
    "device = torch.device('cuda' if torch.cuda.is_available() else 'cpu')\n",
    "device"
   ]
  },
  {
   "cell_type": "code",
   "execution_count": 179,
   "metadata": {},
   "outputs": [
    {
     "data": {
      "text/plain": [
       "4"
      ]
     },
     "execution_count": 179,
     "metadata": {},
     "output_type": "execute_result"
    }
   ],
   "source": [
    "torch.cuda.device_count()"
   ]
  },
  {
   "cell_type": "code",
   "execution_count": 180,
   "metadata": {},
   "outputs": [],
   "source": [
    "transforms = transforms.Compose([\n",
    "    transforms.ToTensor(),\n",
    "    transforms.Resize(32),\n",
    "])\n",
    "\n",
    "train = torchvision.datasets.MNIST(root = \"./\", train = True, download = True, transform = transforms)\n",
    "test = torchvision.datasets.MNIST(root = \"./\", train = False, download = True, transform = transforms)"
   ]
  },
  {
   "cell_type": "code",
   "execution_count": 181,
   "metadata": {},
   "outputs": [
    {
     "data": {
      "text/plain": [
       "Dataset MNIST\n",
       "    Number of datapoints: 60000\n",
       "    Root location: ./\n",
       "    Split: Train\n",
       "    StandardTransform\n",
       "Transform: Compose(\n",
       "               ToTensor()\n",
       "               Resize(size=32, interpolation=bilinear, max_size=None, antialias=None)\n",
       "           )"
      ]
     },
     "execution_count": 181,
     "metadata": {},
     "output_type": "execute_result"
    }
   ],
   "source": [
    "train"
   ]
  },
  {
   "cell_type": "code",
   "execution_count": 182,
   "metadata": {},
   "outputs": [
    {
     "data": {
      "text/plain": [
       "Dataset MNIST\n",
       "    Number of datapoints: 10000\n",
       "    Root location: ./\n",
       "    Split: Test\n",
       "    StandardTransform\n",
       "Transform: Compose(\n",
       "               ToTensor()\n",
       "               Resize(size=32, interpolation=bilinear, max_size=None, antialias=None)\n",
       "           )"
      ]
     },
     "execution_count": 182,
     "metadata": {},
     "output_type": "execute_result"
    }
   ],
   "source": [
    "test"
   ]
  },
  {
   "cell_type": "code",
   "execution_count": 183,
   "metadata": {},
   "outputs": [],
   "source": [
    "f_cnt, n_cnt = 0, 0\n",
    "train_four, train_nine = [], []\n",
    "\n",
    "def transform_degree_n6(img):\n",
    "    return torchvision.transforms.functional.rotate(img = img, angle = -6)\n",
    "\n",
    "def transform_degree_n3(img):\n",
    "    return torchvision.transforms.functional.rotate(img = img, angle = -3)\n",
    "\n",
    "def transform_degree_3(img):\n",
    "    return torchvision.transforms.functional.rotate(img = img, angle = 3)\n",
    "\n",
    "def transform_pixel(img):\n",
    "    for i in range(6):\n",
    "       coord = np.random.randint(0, img.shape[1], size = 2)\n",
    "       img[0, coord[0], coord[1]] = 0\n",
    "    \n",
    "    return img\n",
    "\n",
    "def aug_func(idx, img):\n",
    "    if i == 0: img = transform_degree_n6(img)\n",
    "    if i == 1: img = transform_degree_n3(img)\n",
    "    if i == 2: img = transform_degree_3(img)\n",
    "    if i == 3: img = transform_pixel(img)\n",
    "    return img\n",
    "\n",
    "for img, label in train:\n",
    "    if label == 4:\n",
    "\n",
    "        if f_cnt < 3000: \n",
    "            train_four.append(img)\n",
    "            for i in range(0, 4): train_four.append(aug_func(i, img))\n",
    "        f_cnt+=1\n",
    "    \n",
    "    elif label == 9: \n",
    "        if n_cnt < 3000: \n",
    "            train_nine.append(img)\n",
    "            for i in range(0, 4): train_nine.append(aug_func(i, img))   \n",
    "        n_cnt+=1"
   ]
  },
  {
   "cell_type": "code",
   "execution_count": 184,
   "metadata": {},
   "outputs": [],
   "source": [
    "test_four, test_nine = [], []\n",
    "f_cnt, n_cnt = 0, 0\n",
    "\n",
    "for img, label in test:\n",
    "    if label == 4 and f_cnt < 400: # test nine has not enough images\n",
    "        test_four.append(img)\n",
    "        f_cnt += 1\n",
    "    \n",
    "    elif label == 9 and n_cnt < 400:\n",
    "        test_nine.append(img)\n",
    "        n_cnt += 1"
   ]
  },
  {
   "cell_type": "code",
   "execution_count": 185,
   "metadata": {},
   "outputs": [
    {
     "data": {
      "text/plain": [
       "(15000, 15000, 400, 400)"
      ]
     },
     "execution_count": 185,
     "metadata": {},
     "output_type": "execute_result"
    }
   ],
   "source": [
    "train_four.__len__(), train_nine.__len__(), test_four.__len__(), test_nine.__len__()"
   ]
  },
  {
   "cell_type": "code",
   "execution_count": 186,
   "metadata": {},
   "outputs": [
    {
     "name": "stdout",
     "output_type": "stream",
     "text": [
      "torch.Size([1, 32, 32])\n"
     ]
    },
    {
     "data": {
      "image/png": "[encoded data removed]",
      "text/plain": [
       "<Figure size 640x480 with 2 Axes>"
      ]
     },
     "metadata": {},
     "output_type": "display_data"
    }
   ],
   "source": [
    "for f, n in zip(train_four, train_nine):\n",
    "    plt.subplot(1, 2, 1); plt.imshow(f.permute(1,2,0))\n",
    "    plt.subplot(1, 2, 2); plt.imshow(n.permute(1,2,0))    \n",
    "    print(f.shape)\n",
    "    break"
   ]
  },
  {
   "cell_type": "code",
   "execution_count": 187,
   "metadata": {},
   "outputs": [],
   "source": [
    "train_f = [(img, 0) for img in train_four]\n",
    "train_n = [(img, 1) for img in train_nine]\n",
    "\n",
    "test_f = [(img, 0) for img in test_four]\n",
    "test_n = [(img, 1) for img in test_nine]\n",
    "\n",
    "train = train_f + train_n\n",
    "test = test_f + test_n\n",
    "\n",
    "random.shuffle(train)\n",
    "random.shuffle(test)\n",
    "\n",
    "traindata = [(img1[0], img2[0], 0) if img1[1] == img2[1] else (img1[0], img2[0], 1) for img1, img2 in zip(train[0::2], train[1::2])]"
   ]
  },
  {
   "cell_type": "code",
   "execution_count": 188,
   "metadata": {},
   "outputs": [
    {
     "data": {
      "text/plain": [
       "(94, 24)"
      ]
     },
     "execution_count": 188,
     "metadata": {},
     "output_type": "execute_result"
    }
   ],
   "source": [
    "trainloader = DataLoader(traindata[3000:], batch_size=128, shuffle=True)\n",
    "validloader = DataLoader(traindata[:3000], batch_size=128, shuffle=True)\n",
    "trainloader.__len__(), validloader.__len__()"
   ]
  },
  {
   "cell_type": "code",
   "execution_count": 189,
   "metadata": {},
   "outputs": [],
   "source": [
    "class DrLIM(nn.Module):\n",
    "\n",
    "    def __init__(self):\n",
    "        super().__init__()\n",
    "        self.layer1 = nn.Conv2d(in_channels = 1, out_channels = 15, kernel_size = 6, padding = 0, stride = 1)\n",
    "        self.relu = nn.ReLU()\n",
    "        self.subsampling = nn.MaxPool2d(kernel_size = 3, stride = 3)\n",
    "        self.layer2 = nn.Conv2d(in_channels = 15, out_channels = 30, kernel_size = 9, padding = 0, stride = 1)\n",
    "        # self.relu = nn.ReLU(),\n",
    "        self.fc = nn.Linear(15, 1)\n",
    "\n",
    "    def forward(self, x):\n",
    "        x = self.layer1(x)\n",
    "        x = self.relu(x)\n",
    "        x = self.subsampling(x)\n",
    "        x = self.layer2(x)\n",
    "        x = x.reshape(-1, 2, 15)\n",
    "        x = self.relu(x)\n",
    "        x = self.fc(x)\n",
    "        return x\n",
    "    "
   ]
  },
  {
   "cell_type": "code",
   "execution_count": 190,
   "metadata": {},
   "outputs": [],
   "source": [
    "def CL_Loss(x1, x2, Y, m = 1):\n",
    "    Euclidean_norm = torch.sqrt((x1 - x2)**2) # Euclidean Distance\n",
    "    return torch.mean((1-Y).reshape(-1, 1, 1) * 1/2 * Euclidean_norm**2 + Y.reshape(-1, 1, 1) * 1/2 * torch.maximum(torch.Tensor([0]).to(device), m - Euclidean_norm)**2)"
   ]
  },
  {
   "cell_type": "code",
   "execution_count": 191,
   "metadata": {},
   "outputs": [
    {
     "name": "stderr",
     "output_type": "stream",
     "text": [
      "100%|██████████| 800/800 [00:00<00:00, 1402.74it/s]\n"
     ]
    },
    {
     "data": {
      "image/png": "[encoded data removed]",
      "text/plain": [
       "<Figure size 640x480 with 1 Axes>"
      ]
     },
     "metadata": {},
     "output_type": "display_data"
    }
   ],
   "source": [
    "# valid , \n",
    "model = DrLIM().to(device)\n",
    "model = nn.DataParallel(model).to(device)\n",
    "model.module.load_state_dict(torch.load(\"./DrLIM.pt\"))\n",
    "model.eval()  \n",
    "\n",
    "X, Y = None, []\n",
    "\n",
    "with torch.no_grad():  \n",
    "    for img, labels in tqdm(test):\n",
    "        labels = torch.tensor(labels, dtype = torch.float64).to(device)\n",
    "        img = img.to(device)\n",
    "        \n",
    "        output = model(img)\n",
    "\n",
    "        if X is None:\n",
    "            X = output\n",
    "            Y.append(labels.item())\n",
    "        else:\n",
    "            X = torch.cat([X, output], dim=0)\n",
    "            Y.append(labels.item())\n",
    "\n",
    "X = X.detach().cpu().numpy()\n",
    "y = np.array(Y)\n",
    "\n",
    "\n",
    "plt.figure()\n",
    "plt.axis('off')\n",
    "plt.tight_layout()\n",
    "plt.scatter(X[:, 0], X[:, 1], c=y)\n",
    "plt.savefig('result.png') "
   ]
  },
  {
   "cell_type": "code",
   "execution_count": null,
   "metadata": {},
   "outputs": [],
   "source": []
  },
  {
   "cell_type": "code",
   "execution_count": null,
   "metadata": {},
   "outputs": [],
   "source": []
  }
 ],
 "metadata": {
  "kernelspec": {
   "display_name": "nyh38",
   "language": "python",
   "name": "python3"
  },
  "language_info": {
   "codemirror_mode": {
    "name": "ipython",
    "version": 3
   },
   "file_extension": ".py",
   "mimetype": "text/x-python",
   "name": "python",
   "nbconvert_exporter": "python",
   "pygments_lexer": "ipython3",
   "version": "3.8.13"
  },
  "orig_nbformat": 4
 },
 "nbformat": 4,
 "nbformat_minor": 2
}
